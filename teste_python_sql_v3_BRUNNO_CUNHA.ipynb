{
 "cells": [
  {
   "cell_type": "markdown",
   "metadata": {},
   "source": [
    "### TESTE PYTHON ###\n",
    "\n",
    "1. Para responder as perguntas utilize celulas entre uma e outra pergunta.\n",
    "\n",
    "2. Pra responder as perguntas utilizar o dataset __[Electoral Donations in Brazil](https://www.kaggle.com/felipeleiteantunes/electoral-donations-brazil2014)__ do Keggle\n",
    "    \n",
    "3. O download tem um arquivo zip com vários arquivos, porém vamos utilizar somente o arquivo: receitas_candidatos_2014_brasil_english.csv\n",
    "\n",
    "\n",
    "#### Obs.: No código considere que o arquivo está no mesmo diretório onde irá executar o seu código python.\n"
   ]
  },
  {
   "cell_type": "markdown",
   "metadata": {},
   "source": [
    "### 1. Imprima seu nome completo utilizando Python"
   ]
  },
  {
   "cell_type": "code",
   "execution_count": 1,
   "metadata": {
    "scrolled": false
   },
   "outputs": [
    {
     "name": "stdout",
     "output_type": "stream",
     "text": [
      "Brunno Cunha Mousquer de Oliveira\n"
     ]
    }
   ],
   "source": [
    "print('Brunno Cunha Mousquer de Oliveira')"
   ]
  },
  {
   "cell_type": "markdown",
   "metadata": {},
   "source": [
    "### 2. Criação de um novo arquivo processado\n",
    "\n",
    "1. Formato do Arquivo: \"parquet\"\n",
    "2. Nome \"doacoes_por_partido.parquet\"\n",
    "3. Colunas:\n",
    "    - Partido\n",
    "    - Estado\n",
    "    - ValorDoado - Soma de valor das doações agrupando partido e estado\n",
    "    - ValorDoadoPorEstado - Soma de todas as doações agrupando somente o estado\n",
    "    - Percentual - Razão entre o Valor doado para cada partido pelo valor doado Total do estado\n",
    "\n",
    "\n",
    "\n",
    "#### Com base nas informações acima construir um codigo Python que processe os dados do arquivo \"receitas_candidatos_2014_brasil_english.csv\" e gere um novo arquivo somente com as colunas desejadas."
   ]
  },
  {
   "cell_type": "code",
   "execution_count": 10,
   "metadata": {},
   "outputs": [],
   "source": [
    "import pyarrow.parquet as pq\n",
    "import pyarrow as pa\n",
    "import pandas as pd\n",
    "\n",
    "partidoEstado = df.groupby(['cat_party','cat_election_state'])['num_donation_ammount'].sum().reset_index()\n",
    "estado = df.groupby(['cat_election_state'])['num_donation_ammount'].sum().reset_index()\n",
    "merge = pd.merge(partidoEstado, estado, on='cat_election_state')\n",
    "merge.rename(columns={\n",
    "        'cat_party': 'Partido',\n",
    "        'cat_election_state': 'Estado',\n",
    "        'num_donation_ammount_x': 'ValorDoado', \n",
    "        'num_donation_ammount_y': 'ValorDoadoPorEstado'}, inplace=True)\n",
    "merge['Percentual'] = (((merge['ValorDoado'] - merge['ValorDoadoPorEstado']) / merge['ValorDoadoPorEstado'] * -100) -100) * -1\n",
    "\n",
    "\n",
    "pTable = pa.Table.from_pandas(merge)\n",
    "pq.write_table(pTable, 'doacoes_por_partido.parquet')"
   ]
  },
  {
   "cell_type": "markdown",
   "metadata": {},
   "source": [
    "### 3. Ler arquivo e imprimir informações na tela\n",
    "\n",
    "#### Com base no arquivo gerado no item anterior \"doacoes_por_partido.parquet\" criar dois codigos em Python que respondam as seguintes perguntas?\n",
    "\n",
    "3.1 - Imprimir uma lista utilizando Python \n",
    "    - Criar uma lista com Estado, Partido, Percentual de doação\n",
    "    - Filtrar somente os partidos com maiores doações em cada estado\n",
    "    - Ordenar a lista pelo percentual de doação decrescente.\n",
    "\n",
    "3.2 - Imprimir uma lista utilizando Python \n",
    "    - Imprimir todas as colunas do arquivo\n",
    "    - Filtrar pelos top 20 maiores valores na coluna ValorDoado\n",
    "        \n",
    " "
   ]
  },
  {
   "cell_type": "code",
   "execution_count": 14,
   "metadata": {},
   "outputs": [
    {
     "name": "stdout",
     "output_type": "stream",
     "text": [
      "    Estado Partido  Percentual\n",
      "0       AC      PP       21.65\n",
      "28      AL    PMDB       35.25\n",
      "58      AM    PMDB       28.69\n",
      "89      AP    PMDB       17.60\n",
      "119     BA      PT       27.03\n",
      "149     BR      PT       54.33\n",
      "160     CE    PMDB       34.53\n",
      "191     DF      PT       28.78\n",
      "223     ES    PMDB       28.00\n",
      "255     GO    PSDB       34.08\n",
      "285     MA    PMDB       25.31\n",
      "316     MG      PT       22.20\n",
      "348     MS      PT       28.52\n",
      "378     MT     PDT       27.97\n",
      "406     PA    PMDB       26.68\n",
      "437     PB    PMDB       24.21\n",
      "468     PE     PSB       32.44\n",
      "498     PI    PMDB       17.60\n",
      "529     PR    PSDB       21.74\n",
      "560     RJ    PMDB       36.69\n",
      "592     RN    PMDB       36.90\n",
      "620     RO    PMDB       33.92\n",
      "649     RR     PSB       24.98\n",
      "679     RS      PT       25.01\n",
      "709     SC     PSD       24.22\n",
      "740     SE     PSC       16.47\n",
      "770     SP      PT       24.35\n",
      "802     TO      SD       29.70\n"
     ]
    }
   ],
   "source": [
    "import pyarrow.parquet as pq\n",
    "import pandas as pd\n",
    "\n",
    "pTable = pq.read_table('doacoes_por_partido.parquet')\n",
    "df = pTable.to_pandas()\n",
    "\n",
    "raw = df[['Estado', 'Partido', 'Percentual']]\n",
    "dfGrouped = raw.groupby(['Estado'])\n",
    "dfDesc= dfGrouped.apply(lambda x: x.sort_values([\"Percentual\"], ascending=False))\n",
    "dfFinal = dfDesc.reset_index(drop=True)\n",
    "\n",
    "pd.options.display.float_format = '{:,.2f}'.format\n",
    "print(dfFinal.groupby('Estado').head(1))"
   ]
  },
  {
   "cell_type": "code",
   "execution_count": 13,
   "metadata": {},
   "outputs": [
    {
     "name": "stdout",
     "output_type": "stream",
     "text": [
      "Partido\n",
      "Estado\n",
      "ValorDoado\n",
      "ValorDoadoPorEstado\n",
      "Percentual\n",
      "    Partido Estado     ValorDoado  ValorDoadoPorEstado  Percentual\n",
      "830      PT     BR 350,493,401.70       645,094,550.44       54.33\n",
      "826    PSDB     BR 226,858,146.73       645,094,550.44       35.17\n",
      "784      PT     SP 143,805,539.89       590,536,682.73       24.35\n",
      "779    PSDB     SP 127,363,656.85       590,536,682.73       21.57\n",
      "556    PMDB     RJ 114,813,591.80       312,961,513.35       36.69\n",
      "330      PT     MG  93,751,103.65       422,386,592.55       22.20\n",
      "325    PSDB     MG  93,729,637.36       422,386,592.55       22.19\n",
      "262    PSDB     GO  69,779,749.09       204,731,548.25       34.08\n",
      "824     PSB     BR  61,571,205.64       645,094,550.44        9.54\n",
      "155    PMDB     CE  58,572,767.67       169,644,277.54       34.53\n",
      "142      PT     BA  52,537,387.66       194,349,184.73       27.03\n",
      "766    PMDB     SP  52,466,921.75       590,536,682.73        8.88\n",
      "173      PT     CE  47,327,928.72       169,644,277.54       27.90\n",
      "778     PSD     SP  45,391,012.24       590,536,682.73        7.69\n",
      "472     PSB     PE  44,797,907.20       138,078,392.43       32.44\n",
      "537    PSDB     PR  43,590,232.90       200,493,406.88       21.74\n",
      "312    PMDB     MG  42,796,691.16       422,386,592.55       10.13\n",
      "360      PT     MS  40,018,600.42       140,308,948.91       28.52\n",
      "119     DEM     BA  39,628,502.12       194,349,184.73       20.39\n",
      "692      PT     RS  36,426,501.73       145,663,462.75       25.01\n"
     ]
    }
   ],
   "source": [
    "import pyarrow.parquet as pq\n",
    "import pandas as pd\n",
    "\n",
    "pTable = pq.read_table('doacoes_por_partido.parquet')\n",
    "df = pTable.to_pandas()\n",
    "\n",
    "for col in df.columns: \n",
    "    print(col) \n",
    "pd.options.display.float_format = '{:,.2f}'.format\n",
    "print(df.sort_values(by=['ValorDoado'], ascending=False).head(20))"
   ]
  },
  {
   "cell_type": "markdown",
   "metadata": {},
   "source": [
    "### 4. Lógica de programação \n",
    "\n",
    "1. Desenvolva utilizando **estruturas de repetição**, uma função que receba um vetor e um inteiro por parâmetro, e realize um shift no vetor do tamanho do número inteiro recebido.\n",
    "        \n",
    "- O tamanho do shift deverá aceitar números negativos também. O sinal do tamanho servirá para definir a direção do shift.\n",
    "    - Números positivos indicam o shift da direita para a esquerda.\n",
    "    - Números negativos indicam o shift da esquerda para a direita.\n",
    "    \n",
    "    \n",
    "- **Não serão aceitas respostas do tipo:**\n",
    "    - \"return vetor[-tamanho:] + vetor[:-tamanho]\""
   ]
  },
  {
   "cell_type": "code",
   "execution_count": 8,
   "metadata": {},
   "outputs": [],
   "source": [
    "def shift(vetor, tamanho):\n",
    "    count = 1\n",
    "    if(tamanho > 0):\n",
    "        while(count <= tamanho):            \n",
    "            value = vetor.pop()            \n",
    "            vetor.insert(0, value)\n",
    "            count = count + 1\n",
    "    else:   \n",
    "        vetor.reverse()\n",
    "        while(count <= tamanho * -1):\n",
    "            t = vetor.pop()\n",
    "            vetor.insert(0, t)\n",
    "            count = count + 1    \n",
    "        vetor.reverse()                    \n",
    "            \n",
    "    return vetor"
   ]
  },
  {
   "cell_type": "markdown",
   "metadata": {},
   "source": [
    "#### Execute os campos a baixo para validar a função criada."
   ]
  },
  {
   "cell_type": "markdown",
   "metadata": {},
   "source": [
    "##### Tamanho 1 - Resultado esperado [9,0,1,2,3,4,5,6,7,8]"
   ]
  },
  {
   "cell_type": "code",
   "execution_count": 9,
   "metadata": {},
   "outputs": [
    {
     "name": "stdout",
     "output_type": "stream",
     "text": [
      "[9, 0, 1, 2, 3, 4, 5, 6, 7, 8]\n"
     ]
    }
   ],
   "source": [
    "vetor = [0,1,2,3,4,5,6,7,8,9]\n",
    "ret = shift(vetor, 1)\n",
    "print(ret)"
   ]
  },
  {
   "cell_type": "markdown",
   "metadata": {},
   "source": [
    "##### Tamanho 2 - Resultado esperado: [8,9,0,1,2,3,4,5,6,7]:"
   ]
  },
  {
   "cell_type": "code",
   "execution_count": 10,
   "metadata": {},
   "outputs": [
    {
     "name": "stdout",
     "output_type": "stream",
     "text": [
      "[8, 9, 0, 1, 2, 3, 4, 5, 6, 7]\n"
     ]
    }
   ],
   "source": [
    "vetor = [0,1,2,3,4,5,6,7,8,9]\n",
    "ret = shift(vetor, 2)\n",
    "print(ret)"
   ]
  },
  {
   "cell_type": "markdown",
   "metadata": {},
   "source": [
    "##### Tamanho -1 - Resultado esperado [1,2,3,4,5,6,7,8,9,0]"
   ]
  },
  {
   "cell_type": "code",
   "execution_count": 11,
   "metadata": {},
   "outputs": [
    {
     "name": "stdout",
     "output_type": "stream",
     "text": [
      "[1, 2, 3, 4, 5, 6, 7, 8, 9, 0]\n"
     ]
    }
   ],
   "source": [
    "vetor = [0,1,2,3,4,5,6,7,8,9]\n",
    "ret = shift(vetor, -1)\n",
    "print(ret)"
   ]
  },
  {
   "cell_type": "markdown",
   "metadata": {},
   "source": [
    "##### Tamanho -2 - Resultado esperado [2,3,4,5,6,7,8,9,0,1]"
   ]
  },
  {
   "cell_type": "code",
   "execution_count": 12,
   "metadata": {},
   "outputs": [
    {
     "name": "stdout",
     "output_type": "stream",
     "text": [
      "[2, 3, 4, 5, 6, 7, 8, 9, 0, 1]\n"
     ]
    }
   ],
   "source": [
    "vetor = [0,1,2,3,4,5,6,7,8,9]\n",
    "ret = shift(vetor, -2)\n",
    "print(ret)"
   ]
  },
  {
   "cell_type": "markdown",
   "metadata": {},
   "source": [
    "### 5. Web Scraping"
   ]
  },
  {
   "cell_type": "markdown",
   "metadata": {},
   "source": [
    "- 5.1 Desenvolva um algorítmo capaz de retornar os valores do mês atual, acumulado no ano e acumulado nos últimos 12 meses para os seguintes indicadores econômicos:\n",
    "    - Selic\n",
    "    - CDI\n",
    "    - Ibovespa\n",
    "    - Dólar Comercial (mercado)\n",
    "    - IPCA\n",
    "    - IGPM\n",
    "- Os dados devem ser retirados do site __[Valor Econômico](https://www.valor.com.br/valor-data/tabela/5810/evolucao-das-aplicacoes-financeiras)__"
   ]
  },
  {
   "cell_type": "code",
   "execution_count": null,
   "metadata": {},
   "outputs": [],
   "source": [
    "# Desenvolva a Resposta do item 5.1 Aqui\n"
   ]
  },
  {
   "cell_type": "markdown",
   "metadata": {},
   "source": [
    "- 5.2 Desenvolva um algorítmo capaz de retornar os valores das maiores altas e as maiores baixas do dia na bolsa de valores de São Paulo. Dados a serem retornados:\n",
    "    - Nome do papel (ex: PETR4)\n",
    "    - Ultimo valor\n",
    "    - Variação\n",
    "- Os dados podem ser retirados dos sites \n",
    "    - __[O Globo](https://oglobo.globo.com/economia/indicadores/)__\n",
    "    - __[Infomoney](https://www.infomoney.com.br/)__\n",
    "    - __[ADVFN](https://br.advfn.com/)__"
   ]
  },
  {
   "cell_type": "code",
   "execution_count": 1,
   "metadata": {},
   "outputs": [
    {
     "name": "stdout",
     "output_type": "stream",
     "text": [
      "MAIORES ALTAS\n",
      "   PAPEL ÚLTIMO (R$) VARIAÇÃO (%)\n",
      "0  BRAP4       32,19       +4,07%\n",
      "1  VALE3       48,56       +3,87%\n",
      "2  PETR4       29,25       +3,28%\n",
      "3  CIEL3        7,89       +3,27%\n",
      "4  PETR3       31,71       +2,92%\n",
      "MAIORES BAIXAS\n",
      "   PAPEL ÚLTIMO (R$) VARIAÇÃO (%)\n",
      "0  BRAP4       32,19       +4,07%\n",
      "1  VALE3       48,56       +3,87%\n",
      "2  PETR4       29,25       +3,28%\n",
      "3  CIEL3        7,89       +3,27%\n",
      "4  PETR3       31,71       +2,92%\n"
     ]
    }
   ],
   "source": [
    "from selenium import webdriver\n",
    "from time import sleep\n",
    "import pandas as pd\n",
    "\n",
    "def splitRows(arr):\n",
    "    newArr = []\n",
    "    for item in arr:\n",
    "        newArr.append(item.split())\n",
    "    return newArr\n",
    "\n",
    "def mergeDescricao(arr):\n",
    "    count = 0\n",
    "    while(count < len(arr)):    \n",
    "        arr[count][1] = arr[count][1] + ' ' + arr[count][2]\n",
    "        count = count +1\n",
    "    return arr\n",
    "\n",
    "def removeMergedField(arr):\n",
    "    count = 0\n",
    "    while(count < len(arr)):    \n",
    "        del arr[count][2]\n",
    "        count = count +1\n",
    "    return arr\n",
    "\n",
    "_BASE_URL = 'https://www.valor.com.br/valor-data/indicadores-oglobo'\n",
    "driver = webdriver.Firefox(executable_path = 'C:\\\\Users\\\\kicker\\\\Desktop\\\\testepython\\\\geckodriver.exe')\n",
    "driver.get(_BASE_URL)\n",
    "\n",
    "\"\"\" MAIORES ALTAS \"\"\"\n",
    "txtTabAltas = driver.find_element_by_class_name('tab-ibv-altas').text\n",
    "sleep(1)\n",
    "arrTabAltas = txtTabAltas.splitlines()\n",
    "del arrTabAltas[0] # Remove Header\n",
    "arrTabAltas = splitRows(arrTabAltas)\n",
    "arrTabAltas = mergeDescricao(arrTabAltas)\n",
    "arrTabAltas = removeMergedField(arrTabAltas)\n",
    "dfAltas = pd.DataFrame(arrTabAltas)\n",
    "\n",
    "columns = ['PAPEL', 'DESCRIÇÃO', 'ÚLTIMO (R$)',  'MÁXIMO (R$)','MÍNIMO (R$)', 'VARIAÇÃO (%)', 'DIA ANTERIOR (R$)']\n",
    "dfAltas.columns = columns\n",
    "print('MAIORES ALTAS')\n",
    "print(dfAltas[['PAPEL','ÚLTIMO (R$)','VARIAÇÃO (%)']])\n",
    "\n",
    "\"\"\" MAIORES BAIXAS \"\"\"\n",
    "driver.find_element_by_id('btn-tab-baixas').click()\n",
    "sleep(2)\n",
    "txtTabBaixas = driver.find_element_by_class_name('tab-ibv-baixas').text\n",
    "sleep(1)\n",
    "arrTabBaixas = txtTabBaixas.splitlines()\n",
    "del arrTabBaixas[0] # Remove Header\n",
    "arrTabBaixas = splitRows(arrTabBaixas)\n",
    "arrTabBaixas = mergeDescricao(arrTabBaixas)\n",
    "arrTabBaixas = removeMergedField(arrTabBaixas)\n",
    "\n",
    "dfBaixas = pd.DataFrame(arrTabAltas)\n",
    "dfBaixas.columns = columns\n",
    "print('MAIORES BAIXAS')\n",
    "print(dfBaixas[['PAPEL','ÚLTIMO (R$)','VARIAÇÃO (%)']])\n",
    "\n",
    "driver.close()"
   ]
  },
  {
   "cell_type": "markdown",
   "metadata": {},
   "source": [
    "### TESTE PYTHON + SQL ###\n",
    "\n",
    "1. Utilize um banco de dados(SQL) de sua preferencia.\n",
    "2. Se seu banco de dados tiver limite de espaço, adapte o dataset do python para que possa funcionar. Vamos analisar o código.\n",
    "3. **Não esqueça de retirar os dados de acesso ao seu banco de dados LOGIN e SENHA ao enviar a resposta**"
   ]
  },
  {
   "cell_type": "markdown",
   "metadata": {},
   "source": [
    "### 6. Gravar arquivos em uma tabela de banco de dados\n",
    "\n",
    "#### A partir do arquivo receitas_candidatos_2014_brasil_english.csv executar um codigo em python que grave os dados do arquivo em uma tabela do banco de dados\n",
    "\n",
    "Considere o seguinte cenario:\n",
    "\n",
    "1. Estamos criando uma rotina para inserir registros do arquivo no banco de dados.\n",
    "2. Ao executar a primeira vez o codigo, se a tabela não existir ela devera ser criada.\n",
    "    - Ao Criar a tabela ou inserir dados, converter os registros de data/hora e númericos para o tipo correspondente no banco de dados\n",
    "3. O nome da tabela deve ser TABELA_DOACOES\n",
    "4. O Arquivo não tem uma chave unica, então vamos criar uma com o nome di_doacao, para considerar um registro unico, considere 3 colunas:\n",
    "    - dat_donation_date\n",
    "    - id_donator_cpf_cnpj\n",
    "    - id_candidate_cpf\n",
    "    - Quando uma doação tiver a mesma chave(campos acima) vamos considerar o valor mais alto de doacao para inserir na base de dados.\n",
    "5. Em uma nova carga devemos analisar se um registro com a mesma chave já existe na tabela:\n",
    "    - Caso não exista, vamos inserir o registro\n",
    "    - Caso exista vamos analisar se o valor doado atual é maior que o valor. Caso seja maior atualizar o registro, caso contrario não efetuar nenhuma alteração\n",
    "    \n",
    "##### Obs.: Considerar que o arquivo sempre será uma extração full da origem, ou seja, sempre terá todos os dados que já foram processados e dados novos\n",
    "        \n",
    " "
   ]
  },
  {
   "cell_type": "code",
   "execution_count": 4,
   "metadata": {},
   "outputs": [],
   "source": [
    "import psycopg2\n",
    "import pandas as pd\n",
    "\n",
    "_HOSTNAME = 'localhost'\n",
    "_DATABASE = 'postgres'\n",
    "_USER = 'postgres'\n",
    "_PASS = '##Zippo420'\n",
    "_FILE = 'receitas_candidatos_2014_brasil_english.csv'\n",
    "_FILE_FIX = 'receitas_candidatos_2014_brasil_english_FIX.csv'\n",
    "\n",
    "conn = psycopg2.connect(host=_HOSTNAME,database=_DATABASE,user=_USER,password=_PASS)\n",
    "cursor = conn.cursor()\n",
    "\n",
    "sqlRawTable = \"\"\"\n",
    "CREATE TABLE IF NOT EXISTS juntoseguros.TABELA_DOACOES_RAW(\n",
    "        id_election integer ,\n",
    "        cat_election_description varchar(20),\n",
    "        dat_donation_date_time varchar(50),\n",
    "        id_accountant_cnpj varchar(50),\n",
    "        id_candidate_seq varchar(50) ,\n",
    "        cat_election_state varchar(2),\n",
    "        cat_party varchar(10),\n",
    "        id_candidate_num integer ,\n",
    "        cat_political_office varchar(20),\n",
    "        cat_candidate_name varchar(250),\n",
    "        id_candidate_cpf bigint ,\n",
    "        id_receipt_num varchar(50) ,\n",
    "        id_document_num varchar(50),\n",
    "        id_donator_cpf_cnpj varchar(50),\n",
    "        cat_donator_name varchar(250),\n",
    "        cat_donator_name2 varchar(250),\n",
    "        cat_donator_state varchar(10),\n",
    "        id_donator_party integer,\n",
    "        id_donator_number integer,\n",
    "        id_donator_economic_sector integer,\n",
    "        cat_donator_economic_sector varchar(250),\n",
    "        dat_donation_date varchar(50),\n",
    "        num_donation_ammount numeric(16,2),\n",
    "        cat_donation_type varchar(100),\n",
    "        cat_donation_source varchar(50),\n",
    "        cat_donation_method varchar(50),\n",
    "        cat_donation_description varchar(250),\n",
    "        id_original_donator_cpf_cnpj varchar(50),\n",
    "        cat_original_donator_name varchar(250),\n",
    "        cat_original_donator_type varchar(2),\n",
    "        cat_original_donator_economic_sector varchar(250),\n",
    "        cat_original_donator_name2 varchar(250)    \n",
    ");\"\"\"\n",
    "\n",
    "\n",
    "sqlStageTable = \"\"\"\n",
    "CREATE TABLE IF NOT EXISTS juntoseguros.TABELA_DOACOES(\n",
    "        id_election integer ,\n",
    "        cat_election_description varchar(20),\n",
    "        dat_donation_date_time timestamp without time zone,\n",
    "        id_accountant_cnpj varchar(50),\n",
    "        id_candidate_seq varchar(50) ,\n",
    "        cat_election_state varchar(2),\n",
    "        cat_party varchar(10),\n",
    "        id_candidate_num integer ,\n",
    "        cat_political_office varchar(20),\n",
    "        cat_candidate_name varchar(250),\n",
    "        id_candidate_cpf bigint ,\n",
    "        id_receipt_num varchar(50) ,\n",
    "        id_document_num varchar(50),\n",
    "        id_donator_cpf_cnpj varchar(50),\n",
    "        cat_donator_name varchar(250),\n",
    "        cat_donator_name2 varchar(250),\n",
    "        cat_donator_state varchar(10),\n",
    "        id_donator_party integer,\n",
    "        id_donator_number integer,\n",
    "        id_donator_economic_sector integer,\n",
    "        cat_donator_economic_sector varchar(250),\n",
    "        dat_donation_date timestamp without time zone,\n",
    "        num_donation_ammount numeric(16,2),\n",
    "        cat_donation_type varchar(100),\n",
    "        cat_donation_source varchar(50),\n",
    "        cat_donation_method varchar(50),\n",
    "        cat_donation_description varchar(250),\n",
    "        id_original_donator_cpf_cnpj varchar(50),\n",
    "        cat_original_donator_name varchar(250),\n",
    "        cat_original_donator_type varchar(2),\n",
    "        cat_original_donator_economic_sector varchar(250),\n",
    "        cat_original_donator_name2 varchar(250),\n",
    "        PRIMARY KEY(dat_donation_date, id_donator_cpf_cnpj, id_candidate_cpf)\n",
    ");\"\"\"\n",
    "                \n",
    "# Create tables\n",
    "cursor.execute(sqlRawTable)\n",
    "cursor.execute(sqlStageTable)\n",
    "conn.commit()\n",
    "\n",
    "# Load CSV\n",
    "df = pd.read_csv(_FILE)\n",
    "df = df.drop('Unnamed: 0', 1) #My csv exported an Index from pandas\n",
    "\n",
    "# Fill NA with 0\n",
    "df['id_donator_economic_sector'] = df['id_donator_economic_sector'].fillna(0)\n",
    "df['id_donator_party'] = df['id_donator_party'].fillna(0)\n",
    "\n",
    "# Set type as INTEGER\n",
    "df['id_donator_economic_sector'] = df['id_donator_economic_sector'].astype('int64')\n",
    "df['id_donator_party'] = df['id_donator_party'].astype('int64')\n",
    "\n",
    "#Save New CSV\n",
    "df.to_csv(_FILE_FIX, index=False)\n",
    "\n",
    "#Load New CSV into Posgre\n",
    "sqlLoad = \"\"\" copy juntoseguros.TABELA_DOACOES_RAW \n",
    "                from 'E:\\\\receitas_candidatos_2014_brasil_english_FIX.csv' \n",
    "                DELIMITER ',' CSV header\"\"\"\n",
    "                \n",
    "cursor.execute(sqlLoad)\n",
    "conn.commit()\n",
    "\n",
    "sqlInsert = \"\"\"\n",
    "insert into juntoseguros.TABELA_DOACOES (\n",
    "select \n",
    "\tid_election, \n",
    "\tcat_election_description, \n",
    "\tdat_donation_date_time, \n",
    "\tid_accountant_cnpj, \n",
    "\tid_candidate_seq, \n",
    "\tcat_election_state, \n",
    "\tcat_party, \n",
    "\tid_candidate_num, \n",
    "\tcat_political_office, \n",
    "\tcat_candidate_name, \n",
    "\tid_candidate_cpf, \n",
    "\tid_receipt_num, \n",
    "\tid_document_num, \n",
    "\tid_donator_cpf_cnpj, \n",
    "\tcat_donator_name, \n",
    "\tcat_donator_name2, \n",
    "\tcat_donator_state, \n",
    "\tid_donator_party, \n",
    "\tid_donator_number, \n",
    "\tid_donator_economic_sector, \n",
    "\tcat_donator_economic_sector, \n",
    "\tdat_donation_date,\n",
    "\tnum_donation_ammount, \n",
    "\tcat_donation_type, \n",
    "\tcat_donation_source, \n",
    "\tcat_donation_method, \n",
    "\tcat_donation_description, \n",
    "\tid_original_donator_cpf_cnpj,\n",
    "\tcat_original_donator_name, \n",
    "\tcat_original_donator_type, \n",
    "\tcat_original_donator_economic_sector, \n",
    "\tcat_original_donator_name2\n",
    "from (\n",
    "\tSELECT \n",
    "\t\tid_election, \n",
    "\t\tcat_election_description, \n",
    "\t\tto_timestamp(dat_donation_date_time,'DD/MM/YYYYHH24:MI:SS') as dat_donation_date_time, \n",
    "\t\tid_accountant_cnpj, \n",
    "\t\tid_candidate_seq, \n",
    "\t\tcat_election_state, \n",
    "\t\tcat_party, \n",
    "\t\tid_candidate_num, \n",
    "\t\tcat_political_office, \n",
    "\t\tcat_candidate_name, \n",
    "\t\tid_candidate_cpf, \n",
    "\t\tid_receipt_num, \n",
    "\t\tid_document_num, \n",
    "\t\tid_donator_cpf_cnpj, \n",
    "\t\tcat_donator_name, \n",
    "\t\tcat_donator_name2, \n",
    "\t\tcat_donator_state, \n",
    "\t\tid_donator_party, \n",
    "\t\tid_donator_number, \n",
    "\t\tid_donator_economic_sector, \n",
    "\t\tcat_donator_economic_sector, \n",
    "\t\tDATE(to_timestamp(dat_donation_date,'DD/MM/YYYYHH24:MI:SS')) as dat_donation_date,\n",
    "\t\tnum_donation_ammount, \n",
    "\t\tcat_donation_type, \n",
    "\t\tcat_donation_source, \n",
    "\t\tcat_donation_method, \n",
    "\t\tcat_donation_description, \n",
    "\t\tid_original_donator_cpf_cnpj,\n",
    "\t\tcat_original_donator_name, \n",
    "\t\tcat_original_donator_type, \n",
    "\t\tcat_original_donator_economic_sector, \n",
    "\t\tcat_original_donator_name2,\n",
    "\t\tROW_NUMBER() OVER(partition by dat_donation_date, id_donator_cpf_cnpj,id_candidate_cpf\n",
    "\t\t\t\t\t\torder by num_donation_ammount desc) \"order\"\n",
    "\tfrom juntoseguros.tabela_doacoes_raw\n",
    "\twhere id_donator_cpf_cnpj is not null\n",
    ") as r\n",
    "where \"order\" = 1);\n",
    "\"\"\"\n",
    "\n",
    "cursor.execute(sqlInsert)\n",
    "conn.commit()"
   ]
  },
  {
   "cell_type": "markdown",
   "metadata": {},
   "source": [
    "### TESTE SQL ###\n",
    "\n",
    "1. Utilize um banco de dados(SQL) de sua preferencia.\n",
    "\n",
    "2. De Preferencia utilize a tabela criada no item anterior, caso não tenha a tabela faça uma carga do arquivo receitas_candidatos_2014_brasil_english.csv em uma tabela chamada TABELA_DOACOES. Se seu banco de dados tiver limite de espaço, adapte a quantidade de linhas para inserir na tabela. Vamos analisar as instruções SQL.\n",
    "    \n",
    "\n",
    "#### Obs.: Somente cole a instrução SQL nas celulas.\n"
   ]
  },
  {
   "cell_type": "markdown",
   "metadata": {},
   "source": [
    "### 7. Crie uma query que responda:\n",
    "\n",
    "#### Quais são os 10 candidatos que receberam mais doações\n",
    "        \n",
    " "
   ]
  },
  {
   "cell_type": "code",
   "execution_count": null,
   "metadata": {},
   "outputs": [],
   "source": [
    "SELECT cat_candidate_name ORDER BY num_donation_ammount DESC LIMIT 10"
   ]
  },
  {
   "cell_type": "markdown",
   "metadata": {},
   "source": [
    "### 8. Crie uma query que responda:\n",
    "\n",
    "#### Para o posto(cat_political_office) de \"Deputado Federal\" qual o valor que cada candidato recebeu, o valor médio de doções e a relação entre os dois, ordene pelos candidatos com mais doações relativas.\n",
    " "
   ]
  },
  {
   "cell_type": "code",
   "execution_count": null,
   "metadata": {},
   "outputs": [],
   "source": [
    "create temporary table candidate_donations as (\n",
    "\tselect \n",
    "\t\tcat_candidate_name,\t\n",
    "\t\tsum(num_donation_ammount) total_donations,\n",
    "\t\tnull as avg_donations\n",
    "\tfrom tabela_doacoes\n",
    "\twhere cat_political_office = 'Deputado Estadual'\n",
    "\tgroup by 1\n",
    ");\n",
    "\n",
    "update candidate_donations\n",
    "set avg_donations = \n",
    "\t(select\n",
    "\t\t(sum(num_donation_ammount) / count(num_donation_ammount::float))::numeric(16,2)\n",
    "\tfrom tabela_doacoes\n",
    "\twhere cat_political_office = 'Deputado Estadual');\n",
    "\t\n",
    "\n",
    "select \n",
    "\tcat_candidate_name,\n",
    "\ttotal_donations,\n",
    "\tavg_donations,\n",
    "\t(\n",
    "\t\t(total_donations::decimal - avg_donations::decimal) / avg_donations::decimal\n",
    "\t) * 100 as donation_relation\n",
    "from candidate_donations\n",
    "order by 4 desc;"
   ]
  },
  {
   "cell_type": "markdown",
   "metadata": {},
   "source": [
    "### 9. Crie uma query que responda:\n",
    "\n",
    "#### Liste todos os candidatos, o seu valor recebido em doação, o valor médio de doações pelo posto correspondente ao do candidato e a relação entre o Recebido pelo candidato e a média do posto concorrido.\n",
    " "
   ]
  },
  {
   "cell_type": "code",
   "execution_count": null,
   "metadata": {},
   "outputs": [],
   "source": [
    "select \n",
    "\tr.cat_political_office,\n",
    "\tr.cat_candidate_name,\n",
    "\tr.total_ammount,\n",
    "\tr.avg_donations,\n",
    "\t(\n",
    "\t\t(r.total_ammount::decimal - r.avg_donations::decimal) / r.avg_donations::decimal\n",
    "\t) * 100 as donation_relation\n",
    "from (\n",
    "\tselect \n",
    "\t\ttd.cat_political_office,\n",
    "\t\ttd.cat_candidate_name,\t\t\n",
    "\t\tcpo.avg_donations,\n",
    "\t\tsum(td.num_donation_ammount) total_ammount\n",
    "\tfrom tabela_doacoes td\n",
    "\tinner join (\n",
    "\t\tselect\n",
    "\t\t\tcat_political_office,\n",
    "\t\t\t(sum(num_donation_ammount) / count(num_donation_ammount::float))::numeric(16,2) as avg_donations\n",
    "\t\tfrom tabela_doacoes\n",
    "\t\tgroup by 1) as cpo \n",
    "\t\ton cpo.cat_political_office = td.cat_political_office\n",
    "\tgroup by 1,2,3\n",
    ") r order by 5 desc;\n",
    "\n"
   ]
  },
  {
   "cell_type": "markdown",
   "metadata": {},
   "source": [
    "### 10. Crie uma query que responda:\n",
    "\n",
    "#### Crie uma tabela com base no resultado anterior, filtrando somente candidatos que receberam mais do que 0,1% da média total do seu posto.\n",
    " "
   ]
  },
  {
   "cell_type": "code",
   "execution_count": null,
   "metadata": {},
   "outputs": [],
   "source": [
    "select \n",
    "\tr.cat_political_office,\n",
    "\tr.cat_candidate_name,\n",
    "\tr.total_ammount,\n",
    "\tr.avg_donations,\n",
    "\t(\n",
    "\t\t(r.total_ammount::decimal - r.avg_donations::decimal) / r.avg_donations::decimal\n",
    "\t) * 100 as donation_relation\n",
    "from (\n",
    "\tselect \n",
    "\t\ttd.cat_political_office,\n",
    "\t\ttd.cat_candidate_name,\t\t\n",
    "\t\tcpo.avg_donations,\n",
    "\t\tsum(td.num_donation_ammount) total_ammount\n",
    "\tfrom tabela_doacoes td\n",
    "\tinner join (\n",
    "\t\tselect\n",
    "\t\t\tcat_political_office,\n",
    "\t\t\t(sum(num_donation_ammount) / count(num_donation_ammount::float))::numeric(16,2) as avg_donations\n",
    "\t\tfrom tabela_doacoes\n",
    "\t\tgroup by 1) as cpo \n",
    "\t\ton cpo.cat_political_office = td.cat_political_office\n",
    "\tgroup by 1,2,3\n",
    ") r \n",
    "where ((r.total_ammount::decimal - r.avg_donations::decimal) / r.avg_donations::decimal) * 10 > 0.1\n",
    "order by 5 asc;\n",
    "\n"
   ]
  }
 ],
 "metadata": {
  "kernelspec": {
   "display_name": "Python 3",
   "language": "python",
   "name": "python3"
  },
  "language_info": {
   "codemirror_mode": {
    "name": "ipython",
    "version": 3
   },
   "file_extension": ".py",
   "mimetype": "text/x-python",
   "name": "python",
   "nbconvert_exporter": "python",
   "pygments_lexer": "ipython3",
   "version": "3.7.4"
  }
 },
 "nbformat": 4,
 "nbformat_minor": 2
}
